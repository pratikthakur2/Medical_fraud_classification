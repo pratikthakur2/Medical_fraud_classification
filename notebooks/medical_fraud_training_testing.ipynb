{
  "nbformat": 4,
  "nbformat_minor": 0,
  "metadata": {
    "colab": {
      "provenance": []
    },
    "kernelspec": {
      "name": "python3",
      "display_name": "Python 3"
    },
    "language_info": {
      "name": "python"
    }
  },
  "cells": [
    {
      "cell_type": "markdown",
      "source": [
        "# **IMPORTING ALL THE NECESSARY LIBRARIES**"
      ],
      "metadata": {
        "id": "gT_3ldCAO9x5"
      }
    },
    {
      "cell_type": "code",
      "execution_count": 90,
      "metadata": {
        "id": "TSdIUMVdOzbu"
      },
      "outputs": [],
      "source": [
        "import pandas as pd\n",
        "import numpy as np\n",
        "import os\n",
        "\n",
        "\n",
        "from sklearn import metrics\n",
        "from sklearn import model_selection\n",
        "from sklearn.model_selection import train_test_split\n",
        "from sklearn.linear_model import LogisticRegression\n",
        "# from sklearn.svm import SVC\n",
        "from sklearn.neighbors import KNeighborsClassifier\n",
        "from sklearn.naive_bayes import GaussianNB\n",
        "from sklearn.ensemble import RandomForestClassifier\n",
        "import xgboost as xgb\n",
        "from sklearn.metrics import confusion_matrix\n",
        "from sklearn.metrics import accuracy_score, precision_score, recall_score, f1_score, roc_auc_score\n",
        "\n",
        "import tensorflow as tf\n",
        "from tensorflow.keras.models import Sequential\n",
        "from tensorflow.keras.layers import Dense\n",
        "from tensorflow.keras.optimizers import Adam\n",
        "\n",
        "from IPython.display import display\n",
        "import datetime as dt\n",
        "import matplotlib.pyplot as plt\n",
        "import seaborn as sns\n",
        "%matplotlib inline\n",
        "import warnings\n",
        "warnings.filterwarnings(\"ignore\")"
      ]
    },
    {
      "cell_type": "markdown",
      "source": [
        "# **IMPORTING THE TRAINING AND TESTING DATASETS**"
      ],
      "metadata": {
        "id": "zssqhI7UPEw6"
      }
    },
    {
      "cell_type": "code",
      "source": [
        "from google.colab import drive\n",
        "drive.mount('/content/drive')\n",
        "folder_path = '/content/drive/MyDrive/medicare_fraud_detection/medicure_train_test'"
      ],
      "metadata": {
        "id": "oqqevGJ4Aib0",
        "colab": {
          "base_uri": "https://localhost:8080/"
        },
        "outputId": "4f00d450-cf15-41e2-e9ed-c902c5b94a4a"
      },
      "execution_count": 91,
      "outputs": [
        {
          "output_type": "stream",
          "name": "stdout",
          "text": [
            "Drive already mounted at /content/drive; to attempt to forcibly remount, call drive.mount(\"/content/drive\", force_remount=True).\n"
          ]
        }
      ]
    },
    {
      "cell_type": "code",
      "source": [
        "#importing the training dataset\n",
        "train = pd.read_csv('/content/drive/MyDrive/medicare_fraud_detection/medicure_train_test/train.csv')"
      ],
      "metadata": {
        "id": "Qs6tSOw-O86F"
      },
      "execution_count": 92,
      "outputs": []
    },
    {
      "cell_type": "code",
      "source": [
        "#importing the testing dataset\n",
        "test = pd.read_csv('/content/drive/MyDrive/medicare_fraud_detection/medicure_train_test/test.csv')"
      ],
      "metadata": {
        "id": "Vv9SshaAPIo9"
      },
      "execution_count": 93,
      "outputs": []
    },
    {
      "cell_type": "code",
      "source": [
        "#importing the test data for predictions\n",
        "test_predictions = pd.read_csv('/content/drive/MyDrive/medicare_fraud_detection/datasets/Test-1542969243754.csv')"
      ],
      "metadata": {
        "id": "pvq98r9kE_Wa"
      },
      "execution_count": 94,
      "outputs": []
    },
    {
      "cell_type": "markdown",
      "source": [
        "# **PREPARING THE DATA**"
      ],
      "metadata": {
        "id": "X-XvVgYDPJs_"
      }
    },
    {
      "cell_type": "code",
      "source": [
        "#Shuffling the training datset\n",
        "train = train.sample(frac=1).reset_index(drop=True)"
      ],
      "metadata": {
        "id": "MpQ5iS7tPQ3U"
      },
      "execution_count": 95,
      "outputs": []
    },
    {
      "cell_type": "code",
      "source": [
        "train.info()"
      ],
      "metadata": {
        "id": "-YZCcNboO97z",
        "colab": {
          "base_uri": "https://localhost:8080/"
        },
        "outputId": "41ed138c-3f60-4979-bcb8-66f934d42706"
      },
      "execution_count": 96,
      "outputs": [
        {
          "output_type": "stream",
          "name": "stdout",
          "text": [
            "<class 'pandas.core.frame.DataFrame'>\n",
            "RangeIndex: 558211 entries, 0 to 558210\n",
            "Data columns (total 62 columns):\n",
            " #   Column                           Non-Null Count   Dtype  \n",
            "---  ------                           --------------   -----  \n",
            " 0   BeneID                           558211 non-null  int64  \n",
            " 1   ClaimID                          558211 non-null  int64  \n",
            " 2   ClaimStartDt                     558211 non-null  int64  \n",
            " 3   ClaimEndDt                       558211 non-null  int64  \n",
            " 4   Provider                         558211 non-null  int64  \n",
            " 5   InscClaimAmtReimbursed           558211 non-null  float64\n",
            " 6   AttendingPhysician               558211 non-null  float64\n",
            " 7   OperatingPhysician               558211 non-null  float64\n",
            " 8   OtherPhysician                   558211 non-null  float64\n",
            " 9   AdmissionDt                      558211 non-null  int64  \n",
            " 10  ClmAdmitDiagnosisCode            558211 non-null  float64\n",
            " 11  DeductibleAmtPaid                558211 non-null  float64\n",
            " 12  DischargeDt                      558211 non-null  int64  \n",
            " 13  DiagnosisGroupCode               558211 non-null  float64\n",
            " 14  ClmDiagnosisCode_1               558211 non-null  float64\n",
            " 15  ClmDiagnosisCode_2               558211 non-null  float64\n",
            " 16  ClmDiagnosisCode_3               558211 non-null  float64\n",
            " 17  ClmDiagnosisCode_4               558211 non-null  float64\n",
            " 18  ClmDiagnosisCode_5               558211 non-null  float64\n",
            " 19  ClmDiagnosisCode_6               558211 non-null  float64\n",
            " 20  ClmDiagnosisCode_7               558211 non-null  float64\n",
            " 21  ClmDiagnosisCode_8               558211 non-null  float64\n",
            " 22  ClmDiagnosisCode_9               558211 non-null  float64\n",
            " 23  ClmDiagnosisCode_10              558211 non-null  float64\n",
            " 24  ClmProcedureCode_1               558211 non-null  float64\n",
            " 25  ClmProcedureCode_2               558211 non-null  float64\n",
            " 26  ClmProcedureCode_3               558211 non-null  float64\n",
            " 27  ClmProcedureCode_4               558211 non-null  float64\n",
            " 28  ClmProcedureCode_5               558211 non-null  float64\n",
            " 29  ClmProcedureCode_6               558211 non-null  float64\n",
            " 30  phy_same                         558211 non-null  float64\n",
            " 31  phy_count                        558211 non-null  float64\n",
            " 32  period                           558211 non-null  float64\n",
            " 33  adm_period                       558211 non-null  float64\n",
            " 34  DOB                              558211 non-null  object \n",
            " 35  DOD                              4131 non-null    object \n",
            " 36  Gender                           558211 non-null  int64  \n",
            " 37  Race                             558211 non-null  int64  \n",
            " 38  RenalDiseaseIndicator            558211 non-null  int64  \n",
            " 39  State                            558211 non-null  int64  \n",
            " 40  County                           558211 non-null  float64\n",
            " 41  NoOfMonths_PartACov              558211 non-null  float64\n",
            " 42  NoOfMonths_PartBCov              558211 non-null  float64\n",
            " 43  ChronicCond_Alzheimer            558211 non-null  int64  \n",
            " 44  ChronicCond_Heartfailure         558211 non-null  int64  \n",
            " 45  ChronicCond_KidneyDisease        558211 non-null  int64  \n",
            " 46  ChronicCond_Cancer               558211 non-null  int64  \n",
            " 47  ChronicCond_ObstrPulmonary       558211 non-null  int64  \n",
            " 48  ChronicCond_Depression           558211 non-null  int64  \n",
            " 49  ChronicCond_Diabetes             558211 non-null  int64  \n",
            " 50  ChronicCond_IschemicHeart        558211 non-null  int64  \n",
            " 51  ChronicCond_Osteoporasis         558211 non-null  int64  \n",
            " 52  ChronicCond_rheumatoidarthritis  558211 non-null  int64  \n",
            " 53  ChronicCond_stroke               558211 non-null  int64  \n",
            " 54  IPAnnualReimbursementAmt         558211 non-null  float64\n",
            " 55  IPAnnualDeductibleAmt            558211 non-null  float64\n",
            " 56  OPAnnualReimbursementAmt         558211 non-null  float64\n",
            " 57  OPAnnualDeductibleAmt            558211 non-null  float64\n",
            " 58  Birth_year                       558211 non-null  int64  \n",
            " 59  Age                              558211 non-null  float64\n",
            " 60  Alive                            558211 non-null  int64  \n",
            " 61  PotentialFraud                   558211 non-null  int64  \n",
            "dtypes: float64(35), int64(25), object(2)\n",
            "memory usage: 264.0+ MB\n"
          ]
        }
      ]
    },
    {
      "cell_type": "code",
      "source": [
        "cols_to_drop = ['DOB','DOD']\n",
        "train = train.drop(columns=cols_to_drop)\n",
        "train.info()"
      ],
      "metadata": {
        "id": "VUD06EJsPFh3",
        "colab": {
          "base_uri": "https://localhost:8080/"
        },
        "outputId": "49d5466b-d438-4843-97fb-06416f587ead"
      },
      "execution_count": 97,
      "outputs": [
        {
          "output_type": "stream",
          "name": "stdout",
          "text": [
            "<class 'pandas.core.frame.DataFrame'>\n",
            "RangeIndex: 558211 entries, 0 to 558210\n",
            "Data columns (total 60 columns):\n",
            " #   Column                           Non-Null Count   Dtype  \n",
            "---  ------                           --------------   -----  \n",
            " 0   BeneID                           558211 non-null  int64  \n",
            " 1   ClaimID                          558211 non-null  int64  \n",
            " 2   ClaimStartDt                     558211 non-null  int64  \n",
            " 3   ClaimEndDt                       558211 non-null  int64  \n",
            " 4   Provider                         558211 non-null  int64  \n",
            " 5   InscClaimAmtReimbursed           558211 non-null  float64\n",
            " 6   AttendingPhysician               558211 non-null  float64\n",
            " 7   OperatingPhysician               558211 non-null  float64\n",
            " 8   OtherPhysician                   558211 non-null  float64\n",
            " 9   AdmissionDt                      558211 non-null  int64  \n",
            " 10  ClmAdmitDiagnosisCode            558211 non-null  float64\n",
            " 11  DeductibleAmtPaid                558211 non-null  float64\n",
            " 12  DischargeDt                      558211 non-null  int64  \n",
            " 13  DiagnosisGroupCode               558211 non-null  float64\n",
            " 14  ClmDiagnosisCode_1               558211 non-null  float64\n",
            " 15  ClmDiagnosisCode_2               558211 non-null  float64\n",
            " 16  ClmDiagnosisCode_3               558211 non-null  float64\n",
            " 17  ClmDiagnosisCode_4               558211 non-null  float64\n",
            " 18  ClmDiagnosisCode_5               558211 non-null  float64\n",
            " 19  ClmDiagnosisCode_6               558211 non-null  float64\n",
            " 20  ClmDiagnosisCode_7               558211 non-null  float64\n",
            " 21  ClmDiagnosisCode_8               558211 non-null  float64\n",
            " 22  ClmDiagnosisCode_9               558211 non-null  float64\n",
            " 23  ClmDiagnosisCode_10              558211 non-null  float64\n",
            " 24  ClmProcedureCode_1               558211 non-null  float64\n",
            " 25  ClmProcedureCode_2               558211 non-null  float64\n",
            " 26  ClmProcedureCode_3               558211 non-null  float64\n",
            " 27  ClmProcedureCode_4               558211 non-null  float64\n",
            " 28  ClmProcedureCode_5               558211 non-null  float64\n",
            " 29  ClmProcedureCode_6               558211 non-null  float64\n",
            " 30  phy_same                         558211 non-null  float64\n",
            " 31  phy_count                        558211 non-null  float64\n",
            " 32  period                           558211 non-null  float64\n",
            " 33  adm_period                       558211 non-null  float64\n",
            " 34  Gender                           558211 non-null  int64  \n",
            " 35  Race                             558211 non-null  int64  \n",
            " 36  RenalDiseaseIndicator            558211 non-null  int64  \n",
            " 37  State                            558211 non-null  int64  \n",
            " 38  County                           558211 non-null  float64\n",
            " 39  NoOfMonths_PartACov              558211 non-null  float64\n",
            " 40  NoOfMonths_PartBCov              558211 non-null  float64\n",
            " 41  ChronicCond_Alzheimer            558211 non-null  int64  \n",
            " 42  ChronicCond_Heartfailure         558211 non-null  int64  \n",
            " 43  ChronicCond_KidneyDisease        558211 non-null  int64  \n",
            " 44  ChronicCond_Cancer               558211 non-null  int64  \n",
            " 45  ChronicCond_ObstrPulmonary       558211 non-null  int64  \n",
            " 46  ChronicCond_Depression           558211 non-null  int64  \n",
            " 47  ChronicCond_Diabetes             558211 non-null  int64  \n",
            " 48  ChronicCond_IschemicHeart        558211 non-null  int64  \n",
            " 49  ChronicCond_Osteoporasis         558211 non-null  int64  \n",
            " 50  ChronicCond_rheumatoidarthritis  558211 non-null  int64  \n",
            " 51  ChronicCond_stroke               558211 non-null  int64  \n",
            " 52  IPAnnualReimbursementAmt         558211 non-null  float64\n",
            " 53  IPAnnualDeductibleAmt            558211 non-null  float64\n",
            " 54  OPAnnualReimbursementAmt         558211 non-null  float64\n",
            " 55  OPAnnualDeductibleAmt            558211 non-null  float64\n",
            " 56  Birth_year                       558211 non-null  int64  \n",
            " 57  Age                              558211 non-null  float64\n",
            " 58  Alive                            558211 non-null  int64  \n",
            " 59  PotentialFraud                   558211 non-null  int64  \n",
            "dtypes: float64(35), int64(25)\n",
            "memory usage: 255.5 MB\n"
          ]
        }
      ]
    },
    {
      "cell_type": "code",
      "source": [
        "test = test.drop(columns=cols_to_drop)\n",
        "test.info()"
      ],
      "metadata": {
        "id": "lxQ-eB6oPjPf",
        "colab": {
          "base_uri": "https://localhost:8080/"
        },
        "outputId": "8078a00d-6966-4346-ebf8-c1d7b288680b"
      },
      "execution_count": 98,
      "outputs": [
        {
          "output_type": "stream",
          "name": "stdout",
          "text": [
            "<class 'pandas.core.frame.DataFrame'>\n",
            "RangeIndex: 135392 entries, 0 to 135391\n",
            "Data columns (total 59 columns):\n",
            " #   Column                           Non-Null Count   Dtype  \n",
            "---  ------                           --------------   -----  \n",
            " 0   BeneID                           135392 non-null  int64  \n",
            " 1   ClaimID                          135392 non-null  int64  \n",
            " 2   ClaimStartDt                     135392 non-null  int64  \n",
            " 3   ClaimEndDt                       135392 non-null  int64  \n",
            " 4   Provider                         135392 non-null  int64  \n",
            " 5   InscClaimAmtReimbursed           135392 non-null  float64\n",
            " 6   AttendingPhysician               135392 non-null  float64\n",
            " 7   OperatingPhysician               135392 non-null  float64\n",
            " 8   OtherPhysician                   135392 non-null  float64\n",
            " 9   AdmissionDt                      135392 non-null  int64  \n",
            " 10  ClmAdmitDiagnosisCode            135392 non-null  float64\n",
            " 11  DeductibleAmtPaid                135392 non-null  float64\n",
            " 12  DischargeDt                      135392 non-null  int64  \n",
            " 13  DiagnosisGroupCode               135392 non-null  float64\n",
            " 14  ClmDiagnosisCode_1               135392 non-null  float64\n",
            " 15  ClmDiagnosisCode_2               135392 non-null  float64\n",
            " 16  ClmDiagnosisCode_3               135392 non-null  float64\n",
            " 17  ClmDiagnosisCode_4               135392 non-null  float64\n",
            " 18  ClmDiagnosisCode_5               135392 non-null  float64\n",
            " 19  ClmDiagnosisCode_6               135392 non-null  float64\n",
            " 20  ClmDiagnosisCode_7               135392 non-null  float64\n",
            " 21  ClmDiagnosisCode_8               135392 non-null  float64\n",
            " 22  ClmDiagnosisCode_9               135392 non-null  float64\n",
            " 23  ClmDiagnosisCode_10              135392 non-null  float64\n",
            " 24  ClmProcedureCode_1               135392 non-null  float64\n",
            " 25  ClmProcedureCode_2               135392 non-null  float64\n",
            " 26  ClmProcedureCode_3               135392 non-null  float64\n",
            " 27  ClmProcedureCode_4               135392 non-null  float64\n",
            " 28  ClmProcedureCode_5               135392 non-null  float64\n",
            " 29  ClmProcedureCode_6               135392 non-null  float64\n",
            " 30  phy_same                         135392 non-null  float64\n",
            " 31  phy_count                        135392 non-null  float64\n",
            " 32  period                           135392 non-null  float64\n",
            " 33  adm_period                       135392 non-null  float64\n",
            " 34  Gender                           135392 non-null  int64  \n",
            " 35  Race                             135392 non-null  int64  \n",
            " 36  RenalDiseaseIndicator            135392 non-null  int64  \n",
            " 37  State                            135392 non-null  int64  \n",
            " 38  County                           135392 non-null  float64\n",
            " 39  NoOfMonths_PartACov              135392 non-null  float64\n",
            " 40  NoOfMonths_PartBCov              135392 non-null  float64\n",
            " 41  ChronicCond_Alzheimer            135392 non-null  int64  \n",
            " 42  ChronicCond_Heartfailure         135392 non-null  int64  \n",
            " 43  ChronicCond_KidneyDisease        135392 non-null  int64  \n",
            " 44  ChronicCond_Cancer               135392 non-null  int64  \n",
            " 45  ChronicCond_ObstrPulmonary       135392 non-null  int64  \n",
            " 46  ChronicCond_Depression           135392 non-null  int64  \n",
            " 47  ChronicCond_Diabetes             135392 non-null  int64  \n",
            " 48  ChronicCond_IschemicHeart        135392 non-null  int64  \n",
            " 49  ChronicCond_Osteoporasis         135392 non-null  int64  \n",
            " 50  ChronicCond_rheumatoidarthritis  135392 non-null  int64  \n",
            " 51  ChronicCond_stroke               135392 non-null  int64  \n",
            " 52  IPAnnualReimbursementAmt         135392 non-null  float64\n",
            " 53  IPAnnualDeductibleAmt            135392 non-null  float64\n",
            " 54  OPAnnualReimbursementAmt         135392 non-null  float64\n",
            " 55  OPAnnualDeductibleAmt            135392 non-null  float64\n",
            " 56  Birth_year                       135392 non-null  int64  \n",
            " 57  Age                              135392 non-null  float64\n",
            " 58  Alive                            135392 non-null  int64  \n",
            "dtypes: float64(35), int64(24)\n",
            "memory usage: 60.9 MB\n"
          ]
        }
      ]
    },
    {
      "cell_type": "code",
      "source": [
        "#splitting the train dateset into training and validation in the ratio 4:1 or 8:2\n",
        "train_df, val_df = train_test_split(train,test_size=0.2,random_state=42)"
      ],
      "metadata": {
        "id": "pAC4nzaGbiQX"
      },
      "execution_count": 99,
      "outputs": []
    },
    {
      "cell_type": "code",
      "source": [
        "test.info()"
      ],
      "metadata": {
        "id": "Gm9Is4BjWYVE",
        "colab": {
          "base_uri": "https://localhost:8080/"
        },
        "outputId": "591db3e8-335e-4ed7-ab56-caab8a9a66e5"
      },
      "execution_count": 100,
      "outputs": [
        {
          "output_type": "stream",
          "name": "stdout",
          "text": [
            "<class 'pandas.core.frame.DataFrame'>\n",
            "RangeIndex: 135392 entries, 0 to 135391\n",
            "Data columns (total 59 columns):\n",
            " #   Column                           Non-Null Count   Dtype  \n",
            "---  ------                           --------------   -----  \n",
            " 0   BeneID                           135392 non-null  int64  \n",
            " 1   ClaimID                          135392 non-null  int64  \n",
            " 2   ClaimStartDt                     135392 non-null  int64  \n",
            " 3   ClaimEndDt                       135392 non-null  int64  \n",
            " 4   Provider                         135392 non-null  int64  \n",
            " 5   InscClaimAmtReimbursed           135392 non-null  float64\n",
            " 6   AttendingPhysician               135392 non-null  float64\n",
            " 7   OperatingPhysician               135392 non-null  float64\n",
            " 8   OtherPhysician                   135392 non-null  float64\n",
            " 9   AdmissionDt                      135392 non-null  int64  \n",
            " 10  ClmAdmitDiagnosisCode            135392 non-null  float64\n",
            " 11  DeductibleAmtPaid                135392 non-null  float64\n",
            " 12  DischargeDt                      135392 non-null  int64  \n",
            " 13  DiagnosisGroupCode               135392 non-null  float64\n",
            " 14  ClmDiagnosisCode_1               135392 non-null  float64\n",
            " 15  ClmDiagnosisCode_2               135392 non-null  float64\n",
            " 16  ClmDiagnosisCode_3               135392 non-null  float64\n",
            " 17  ClmDiagnosisCode_4               135392 non-null  float64\n",
            " 18  ClmDiagnosisCode_5               135392 non-null  float64\n",
            " 19  ClmDiagnosisCode_6               135392 non-null  float64\n",
            " 20  ClmDiagnosisCode_7               135392 non-null  float64\n",
            " 21  ClmDiagnosisCode_8               135392 non-null  float64\n",
            " 22  ClmDiagnosisCode_9               135392 non-null  float64\n",
            " 23  ClmDiagnosisCode_10              135392 non-null  float64\n",
            " 24  ClmProcedureCode_1               135392 non-null  float64\n",
            " 25  ClmProcedureCode_2               135392 non-null  float64\n",
            " 26  ClmProcedureCode_3               135392 non-null  float64\n",
            " 27  ClmProcedureCode_4               135392 non-null  float64\n",
            " 28  ClmProcedureCode_5               135392 non-null  float64\n",
            " 29  ClmProcedureCode_6               135392 non-null  float64\n",
            " 30  phy_same                         135392 non-null  float64\n",
            " 31  phy_count                        135392 non-null  float64\n",
            " 32  period                           135392 non-null  float64\n",
            " 33  adm_period                       135392 non-null  float64\n",
            " 34  Gender                           135392 non-null  int64  \n",
            " 35  Race                             135392 non-null  int64  \n",
            " 36  RenalDiseaseIndicator            135392 non-null  int64  \n",
            " 37  State                            135392 non-null  int64  \n",
            " 38  County                           135392 non-null  float64\n",
            " 39  NoOfMonths_PartACov              135392 non-null  float64\n",
            " 40  NoOfMonths_PartBCov              135392 non-null  float64\n",
            " 41  ChronicCond_Alzheimer            135392 non-null  int64  \n",
            " 42  ChronicCond_Heartfailure         135392 non-null  int64  \n",
            " 43  ChronicCond_KidneyDisease        135392 non-null  int64  \n",
            " 44  ChronicCond_Cancer               135392 non-null  int64  \n",
            " 45  ChronicCond_ObstrPulmonary       135392 non-null  int64  \n",
            " 46  ChronicCond_Depression           135392 non-null  int64  \n",
            " 47  ChronicCond_Diabetes             135392 non-null  int64  \n",
            " 48  ChronicCond_IschemicHeart        135392 non-null  int64  \n",
            " 49  ChronicCond_Osteoporasis         135392 non-null  int64  \n",
            " 50  ChronicCond_rheumatoidarthritis  135392 non-null  int64  \n",
            " 51  ChronicCond_stroke               135392 non-null  int64  \n",
            " 52  IPAnnualReimbursementAmt         135392 non-null  float64\n",
            " 53  IPAnnualDeductibleAmt            135392 non-null  float64\n",
            " 54  OPAnnualReimbursementAmt         135392 non-null  float64\n",
            " 55  OPAnnualDeductibleAmt            135392 non-null  float64\n",
            " 56  Birth_year                       135392 non-null  int64  \n",
            " 57  Age                              135392 non-null  float64\n",
            " 58  Alive                            135392 non-null  int64  \n",
            "dtypes: float64(35), int64(24)\n",
            "memory usage: 60.9 MB\n"
          ]
        }
      ]
    },
    {
      "cell_type": "code",
      "source": [
        "#Preparing the features and the labels\n",
        "X_train = train_df.iloc[:,:-1]\n",
        "y_train = train_df.iloc[:,-1]\n",
        "\n",
        "#for validation data\n",
        "X_val=  val_df.iloc[:,:-1]\n",
        "y_val = val_df.iloc[:,-1]\n",
        "\n",
        "#for testing data\n",
        "X_test = test"
      ],
      "metadata": {
        "id": "jYAT48nVby6t"
      },
      "execution_count": 101,
      "outputs": []
    },
    {
      "cell_type": "code",
      "source": [
        "X_test.info()"
      ],
      "metadata": {
        "id": "bNtIlkx5Vn6d",
        "colab": {
          "base_uri": "https://localhost:8080/"
        },
        "outputId": "c46777e4-8355-4450-f514-cee1dcb1cc19"
      },
      "execution_count": 102,
      "outputs": [
        {
          "output_type": "stream",
          "name": "stdout",
          "text": [
            "<class 'pandas.core.frame.DataFrame'>\n",
            "RangeIndex: 135392 entries, 0 to 135391\n",
            "Data columns (total 59 columns):\n",
            " #   Column                           Non-Null Count   Dtype  \n",
            "---  ------                           --------------   -----  \n",
            " 0   BeneID                           135392 non-null  int64  \n",
            " 1   ClaimID                          135392 non-null  int64  \n",
            " 2   ClaimStartDt                     135392 non-null  int64  \n",
            " 3   ClaimEndDt                       135392 non-null  int64  \n",
            " 4   Provider                         135392 non-null  int64  \n",
            " 5   InscClaimAmtReimbursed           135392 non-null  float64\n",
            " 6   AttendingPhysician               135392 non-null  float64\n",
            " 7   OperatingPhysician               135392 non-null  float64\n",
            " 8   OtherPhysician                   135392 non-null  float64\n",
            " 9   AdmissionDt                      135392 non-null  int64  \n",
            " 10  ClmAdmitDiagnosisCode            135392 non-null  float64\n",
            " 11  DeductibleAmtPaid                135392 non-null  float64\n",
            " 12  DischargeDt                      135392 non-null  int64  \n",
            " 13  DiagnosisGroupCode               135392 non-null  float64\n",
            " 14  ClmDiagnosisCode_1               135392 non-null  float64\n",
            " 15  ClmDiagnosisCode_2               135392 non-null  float64\n",
            " 16  ClmDiagnosisCode_3               135392 non-null  float64\n",
            " 17  ClmDiagnosisCode_4               135392 non-null  float64\n",
            " 18  ClmDiagnosisCode_5               135392 non-null  float64\n",
            " 19  ClmDiagnosisCode_6               135392 non-null  float64\n",
            " 20  ClmDiagnosisCode_7               135392 non-null  float64\n",
            " 21  ClmDiagnosisCode_8               135392 non-null  float64\n",
            " 22  ClmDiagnosisCode_9               135392 non-null  float64\n",
            " 23  ClmDiagnosisCode_10              135392 non-null  float64\n",
            " 24  ClmProcedureCode_1               135392 non-null  float64\n",
            " 25  ClmProcedureCode_2               135392 non-null  float64\n",
            " 26  ClmProcedureCode_3               135392 non-null  float64\n",
            " 27  ClmProcedureCode_4               135392 non-null  float64\n",
            " 28  ClmProcedureCode_5               135392 non-null  float64\n",
            " 29  ClmProcedureCode_6               135392 non-null  float64\n",
            " 30  phy_same                         135392 non-null  float64\n",
            " 31  phy_count                        135392 non-null  float64\n",
            " 32  period                           135392 non-null  float64\n",
            " 33  adm_period                       135392 non-null  float64\n",
            " 34  Gender                           135392 non-null  int64  \n",
            " 35  Race                             135392 non-null  int64  \n",
            " 36  RenalDiseaseIndicator            135392 non-null  int64  \n",
            " 37  State                            135392 non-null  int64  \n",
            " 38  County                           135392 non-null  float64\n",
            " 39  NoOfMonths_PartACov              135392 non-null  float64\n",
            " 40  NoOfMonths_PartBCov              135392 non-null  float64\n",
            " 41  ChronicCond_Alzheimer            135392 non-null  int64  \n",
            " 42  ChronicCond_Heartfailure         135392 non-null  int64  \n",
            " 43  ChronicCond_KidneyDisease        135392 non-null  int64  \n",
            " 44  ChronicCond_Cancer               135392 non-null  int64  \n",
            " 45  ChronicCond_ObstrPulmonary       135392 non-null  int64  \n",
            " 46  ChronicCond_Depression           135392 non-null  int64  \n",
            " 47  ChronicCond_Diabetes             135392 non-null  int64  \n",
            " 48  ChronicCond_IschemicHeart        135392 non-null  int64  \n",
            " 49  ChronicCond_Osteoporasis         135392 non-null  int64  \n",
            " 50  ChronicCond_rheumatoidarthritis  135392 non-null  int64  \n",
            " 51  ChronicCond_stroke               135392 non-null  int64  \n",
            " 52  IPAnnualReimbursementAmt         135392 non-null  float64\n",
            " 53  IPAnnualDeductibleAmt            135392 non-null  float64\n",
            " 54  OPAnnualReimbursementAmt         135392 non-null  float64\n",
            " 55  OPAnnualDeductibleAmt            135392 non-null  float64\n",
            " 56  Birth_year                       135392 non-null  int64  \n",
            " 57  Age                              135392 non-null  float64\n",
            " 58  Alive                            135392 non-null  int64  \n",
            "dtypes: float64(35), int64(24)\n",
            "memory usage: 60.9 MB\n"
          ]
        }
      ]
    },
    {
      "cell_type": "markdown",
      "source": [
        "# **TRAINING**"
      ],
      "metadata": {
        "id": "jHQvA8NFPR_L"
      }
    },
    {
      "cell_type": "code",
      "source": [
        "#creating a function for the perfromance of models\n",
        "\n",
        "def cal_metrics(y_actual,y_pred):\n",
        "  metrics={}\n",
        "  metrics['Accuracy'] = accuracy_score(y_actual,y_pred)\n",
        "  metrics['Precision'] = precision_score(y_actual,y_pred)\n",
        "  metrics['Recall'] = recall_score(y_actual,y_pred)\n",
        "  metrics['F1-score'] = f1_score(y_actual,y_pred)\n",
        "\n",
        "  return metrics"
      ],
      "metadata": {
        "id": "iDA1xAdpZxh1"
      },
      "execution_count": 103,
      "outputs": []
    },
    {
      "cell_type": "code",
      "source": [
        "#creating a function for the confusion matrix of models\n",
        "\n",
        "def plot_confusion_matrix(y_actual, y_pred, model_name):\n",
        "    cm = confusion_matrix(y_actual, y_pred)\n",
        "    plt.figure(figsize=(8, 6))\n",
        "    sns.heatmap(cm, annot=True, cmap='Blues', fmt='g')\n",
        "    plt.title('Confusion Matrix - ' + model_name)\n",
        "    plt.xlabel('Predicted')\n",
        "    plt.ylabel('True')\n",
        "    plt.show()"
      ],
      "metadata": {
        "id": "nhKxlhHohsFX"
      },
      "execution_count": 104,
      "outputs": []
    },
    {
      "cell_type": "markdown",
      "source": [
        "Logistic Regression"
      ],
      "metadata": {
        "id": "5fZw6Xh-d9HV"
      }
    },
    {
      "cell_type": "code",
      "source": [
        "#Logistic Regression\n",
        "\n",
        "#training the data\n",
        "logistic_model = LogisticRegression()\n",
        "logistic_model.fit(X_train,y_train)\n",
        "\n",
        "#Validate model on validation data\n",
        "y_val_pred_logistic = logistic_model.predict(X_val)"
      ],
      "metadata": {
        "id": "DDm9LiVAPXBI"
      },
      "execution_count": 105,
      "outputs": []
    },
    {
      "cell_type": "code",
      "source": [
        "#getting the validation scores for logistic regression\n",
        "\n",
        "metrics_logistic = cal_metrics(y_val,y_val_pred_logistic)\n",
        "\n",
        "#printing the metrics\n",
        "print(\"Metrics for Logistic Regression:\")\n",
        "print(metrics_logistic)"
      ],
      "metadata": {
        "colab": {
          "base_uri": "https://localhost:8080/"
        },
        "id": "P66wCAofPypD",
        "outputId": "c4a714ad-2c54-4073-b1c0-6dc89c08bd37"
      },
      "execution_count": 106,
      "outputs": [
        {
          "output_type": "stream",
          "name": "stdout",
          "text": [
            "Metrics for Logistic Regression:\n",
            "{'Accuracy': 0.6260132744551831, 'Precision': 0.5840288315629742, 'Recall': 0.07221088674687492, 'F1-score': 0.12852998267621216}\n"
          ]
        }
      ]
    },
    {
      "cell_type": "code",
      "source": [
        "#generate confusion matrix for linear regression\n",
        "plot_confusion_matrix(y_val,y_val_pred_logistic,'Logistic Regression')"
      ],
      "metadata": {
        "colab": {
          "base_uri": "https://localhost:8080/",
          "height": 564
        },
        "id": "7yH_NObvh-41",
        "outputId": "99e05858-b2f1-499c-e4af-c5fd8b982819"
      },
      "execution_count": 107,
      "outputs": [
        {
          "output_type": "display_data",
          "data": {
            "text/plain": [
              "<Figure size 800x600 with 2 Axes>"
            ],
            "image/png": "[encoded data removed]"
          },
          "metadata": {}
        }
      ]
    },
    {
      "cell_type": "markdown",
      "source": [
        "RANDOM FOREST"
      ],
      "metadata": {
        "id": "SK23IhVFcA8p"
      }
    },
    {
      "cell_type": "code",
      "source": [
        "#Random Forest\n",
        "random_forest_model = RandomForestClassifier(n_estimators=100,random_state=42)\n",
        "\n",
        "#training the model on training data\n",
        "random_forest_model.fit(X_train,y_train)\n",
        "\n",
        "#validating\n",
        "y_val_pred_rf = random_forest_model.predict(X_val)"
      ],
      "metadata": {
        "id": "r1IfeTGLnSRV"
      },
      "execution_count": 108,
      "outputs": []
    },
    {
      "cell_type": "code",
      "source": [
        "#getting the validation score for random forest\n",
        "metrics_rf = cal_metrics(y_val,y_val_pred_rf)\n",
        "\n",
        "#printing the metrics\n",
        "print(\"Metrics for Random Forest:\")\n",
        "print(metrics_rf)"
      ],
      "metadata": {
        "colab": {
          "base_uri": "https://localhost:8080/"
        },
        "id": "ZRc8TrjZPtvi",
        "outputId": "449f46b6-82e3-4149-ea68-a8230466d159"
      },
      "execution_count": 109,
      "outputs": [
        {
          "output_type": "stream",
          "name": "stdout",
          "text": [
            "Metrics for Random Forest:\n",
            "{'Accuracy': 0.8458927115896205, 'Precision': 0.8879263010188518, 'Recall': 0.6826614132601608, 'F1-score': 0.771880510733085}\n"
          ]
        }
      ]
    },
    {
      "cell_type": "code",
      "source": [
        "#generating the confusion matrix for random forest\n",
        "plot_confusion_matrix(y_val,y_val_pred_rf,'Random Forest')"
      ],
      "metadata": {
        "colab": {
          "base_uri": "https://localhost:8080/",
          "height": 564
        },
        "id": "lw2TqT-vcOYw",
        "outputId": "ca1a1d54-4e82-485a-b62b-58d88d0ef21e"
      },
      "execution_count": 110,
      "outputs": [
        {
          "output_type": "display_data",
          "data": {
            "text/plain": [
              "<Figure size 800x600 with 2 Axes>"
            ],
            "image/png": "[encoded data removed]"
          },
          "metadata": {}
        }
      ]
    },
    {
      "cell_type": "markdown",
      "source": [
        "NAIVE BAYES"
      ],
      "metadata": {
        "id": "Ix9oBoSocJR9"
      }
    },
    {
      "cell_type": "code",
      "source": [
        "#Naive bayes\n",
        "naive_bayes_model = GaussianNB()\n",
        "\n",
        "#training the model on the training dataset\n",
        "naive_bayes_model.fit(X_train,y_train)\n",
        "\n",
        "#validating the model on validation data\n",
        "y_val_pred_nb = naive_bayes_model.predict(X_val)"
      ],
      "metadata": {
        "id": "_WdqNjfmnWoW"
      },
      "execution_count": 111,
      "outputs": []
    },
    {
      "cell_type": "code",
      "source": [
        "#getting the validation score\n",
        "metrics_nb = cal_metrics(y_val,y_val_pred_nb)\n",
        "\n",
        "#printing the metrics\n",
        "print(\"Metrics for Naive Bayes:\")\n",
        "print(metrics_nb)"
      ],
      "metadata": {
        "colab": {
          "base_uri": "https://localhost:8080/"
        },
        "id": "zcH7dmuJPo5w",
        "outputId": "c1df0b61-5aa1-4349-ab55-cfc37f2f4d51"
      },
      "execution_count": 112,
      "outputs": [
        {
          "output_type": "stream",
          "name": "stdout",
          "text": [
            "Metrics for Naive Bayes:\n",
            "{'Accuracy': 0.6278763558843815, 'Precision': 0.5807976366322009, 'Recall': 0.09221604634255025, 'F1-score': 0.15916128640531077}\n"
          ]
        }
      ]
    },
    {
      "cell_type": "code",
      "source": [
        "#generating the confusion matrix for Naive Bayes\n",
        "plot_confusion_matrix(y_val,y_val_pred_nb,'Naive Bayes')"
      ],
      "metadata": {
        "colab": {
          "base_uri": "https://localhost:8080/",
          "height": 564
        },
        "id": "xiKpfd8RcVef",
        "outputId": "21c12b2b-a613-4e71-8e30-9cccb28b594f"
      },
      "execution_count": 113,
      "outputs": [
        {
          "output_type": "display_data",
          "data": {
            "text/plain": [
              "<Figure size 800x600 with 2 Axes>"
            ],
            "image/png": "[encoded data removed]"
          },
          "metadata": {}
        }
      ]
    },
    {
      "cell_type": "markdown",
      "source": [
        "KNN"
      ],
      "metadata": {
        "id": "6qx6ttCncauJ"
      }
    },
    {
      "cell_type": "code",
      "source": [
        "#KNN\n",
        "knn_model = KNeighborsClassifier(n_neighbors=5)\n",
        "\n",
        "#training the model on the training dataset\n",
        "knn_model.fit(X_train,y_train)\n",
        "\n",
        "#validating the model on the validation data\n",
        "y_val_pred_knn = knn_model.predict(X_val)"
      ],
      "metadata": {
        "id": "h4EXlzkRkayi"
      },
      "execution_count": 114,
      "outputs": []
    },
    {
      "cell_type": "code",
      "source": [
        "#getting the validation score for knn\n",
        "metrics_knn = cal_metrics(y_val,y_val_pred_knn)\n",
        "\n",
        "#printing the metrics\n",
        "print(\"Metrics for KNN:\")\n",
        "print(metrics_knn)"
      ],
      "metadata": {
        "colab": {
          "base_uri": "https://localhost:8080/"
        },
        "id": "HWNCGM1zPjfJ",
        "outputId": "994a1924-a9e6-4594-b24e-4f1de6965d1b"
      },
      "execution_count": 115,
      "outputs": [
        {
          "output_type": "stream",
          "name": "stdout",
          "text": [
            "Metrics for KNN:\n",
            "{'Accuracy': 0.5608322958000054, 'Precision': 0.4013338685274956, 'Recall': 0.3048382935809939, 'F1-score': 0.34649321568522906}\n"
          ]
        }
      ]
    },
    {
      "cell_type": "code",
      "source": [
        "#generating the confusion matrix for knn\n",
        "plot_confusion_matrix(y_val,y_val_pred_knn,'KNN')"
      ],
      "metadata": {
        "colab": {
          "base_uri": "https://localhost:8080/",
          "height": 564
        },
        "id": "QFNpuTs4cej0",
        "outputId": "3c83b684-474b-4c99-a1f4-a2897cec8d65"
      },
      "execution_count": 116,
      "outputs": [
        {
          "output_type": "display_data",
          "data": {
            "text/plain": [
              "<Figure size 800x600 with 2 Axes>"
            ],
            "image/png": "[encoded data removed]"
          },
          "metadata": {}
        }
      ]
    },
    {
      "cell_type": "markdown",
      "source": [
        "XGBOOST"
      ],
      "metadata": {
        "id": "bMRzxg7yccfe"
      }
    },
    {
      "cell_type": "code",
      "source": [
        "#Xgboost\n",
        "xgb_model = xgb.XGBClassifier(objective='binary:logistic',random_state=42)\n",
        "\n",
        "#training the model on the training dataset\n",
        "xgb_model.fit(X_train,y_train)\n",
        "\n",
        "#validating the model on the validation data\n",
        "y_val_pred_xgb = xgb_model.predict(X_val)\n"
      ],
      "metadata": {
        "id": "7MQFLDHoMJPU"
      },
      "execution_count": 117,
      "outputs": []
    },
    {
      "cell_type": "code",
      "source": [
        "#getting the validation score for xgboost\n",
        "metrics_xgb = cal_metrics(y_val,y_val_pred_xgb)\n",
        "\n",
        "#printing the metrics\n",
        "print(\"Metrics for XGBoost:\")\n",
        "print(metrics_xgb)"
      ],
      "metadata": {
        "colab": {
          "base_uri": "https://localhost:8080/"
        },
        "id": "WS-Nb0b9Pf74",
        "outputId": "a99a915d-c794-478b-e7d7-1ce8c91bb24c"
      },
      "execution_count": 118,
      "outputs": [
        {
          "output_type": "stream",
          "name": "stdout",
          "text": [
            "Metrics for XGBoost:\n",
            "{'Accuracy': 0.9012656413747391, 'Precision': 0.89862820254186, 'Recall': 0.8357606885714955, 'F1-score': 0.8660550458715597}\n"
          ]
        }
      ]
    },
    {
      "cell_type": "code",
      "source": [
        "#generating the confusion matrix for XGboost\n",
        "plot_confusion_matrix(y_val,y_val_pred_xgb,'XGBoost')"
      ],
      "metadata": {
        "colab": {
          "base_uri": "https://localhost:8080/",
          "height": 564
        },
        "id": "cAbILw6Jc7_X",
        "outputId": "2f7607d6-fd24-4c54-f314-1d9c75a8ed24"
      },
      "execution_count": 119,
      "outputs": [
        {
          "output_type": "display_data",
          "data": {
            "text/plain": [
              "<Figure size 800x600 with 2 Axes>"
            ],
            "image/png": "[encoded data removed]"
          },
          "metadata": {}
        }
      ]
    },
    {
      "cell_type": "markdown",
      "source": [
        "\n",
        "Neural Network ANN"
      ],
      "metadata": {
        "id": "d7Ir690bPV50"
      }
    },
    {
      "cell_type": "code",
      "source": [
        "#Bulding the ANN model\n",
        "ann_model = Sequential([\n",
        "    Dense(64,activation='relu',input_shape=(X_train.shape[1],)),\n",
        "    Dense(64,activation='relu'),\n",
        "    Dense(1,activation='sigmoid')\n",
        "])\n",
        "\n",
        "#compiling the model\n",
        "ann_model.compile(optimizer=Adam(learning_rate=0.001),loss='binary_crossentropy',metrics=['accuracy'])\n",
        "\n",
        "#train the model\n",
        "history = ann_model.fit(X_train,y_train,epochs=10,batch_size=32,validation_data=(X_val,y_val))\n"
      ],
      "metadata": {
        "id": "y4je-9cLPX_6",
        "colab": {
          "base_uri": "https://localhost:8080/"
        },
        "outputId": "200f36a0-24c2-4d2f-ff5d-fb6a5e63b275"
      },
      "execution_count": 120,
      "outputs": [
        {
          "output_type": "stream",
          "name": "stdout",
          "text": [
            "Epoch 1/10\n",
            "13956/13956 [==============================] - 50s 4ms/step - loss: 92.0553 - accuracy: 0.5345 - val_loss: 25.6067 - val_accuracy: 0.3859\n",
            "Epoch 2/10\n",
            "13956/13956 [==============================] - 46s 3ms/step - loss: 6.8927 - accuracy: 0.5509 - val_loss: 0.6806 - val_accuracy: 0.5954\n",
            "Epoch 3/10\n",
            "13956/13956 [==============================] - 46s 3ms/step - loss: 0.6655 - accuracy: 0.6187 - val_loss: 0.6651 - val_accuracy: 0.6181\n",
            "Epoch 4/10\n",
            "13956/13956 [==============================] - 51s 4ms/step - loss: 0.6647 - accuracy: 0.6190 - val_loss: 0.6651 - val_accuracy: 0.6181\n",
            "Epoch 5/10\n",
            "13956/13956 [==============================] - 44s 3ms/step - loss: 0.6647 - accuracy: 0.6190 - val_loss: 0.6651 - val_accuracy: 0.6181\n",
            "Epoch 6/10\n",
            "13956/13956 [==============================] - 50s 4ms/step - loss: 0.6647 - accuracy: 0.6190 - val_loss: 0.6651 - val_accuracy: 0.6181\n",
            "Epoch 7/10\n",
            "13956/13956 [==============================] - 46s 3ms/step - loss: 0.6646 - accuracy: 0.6190 - val_loss: 0.6651 - val_accuracy: 0.6181\n",
            "Epoch 8/10\n",
            "13956/13956 [==============================] - 46s 3ms/step - loss: 0.6646 - accuracy: 0.6190 - val_loss: 0.6651 - val_accuracy: 0.6181\n",
            "Epoch 9/10\n",
            "13956/13956 [==============================] - 50s 4ms/step - loss: 0.6646 - accuracy: 0.6190 - val_loss: 0.6651 - val_accuracy: 0.6181\n",
            "Epoch 10/10\n",
            "13956/13956 [==============================] - 44s 3ms/step - loss: 0.6646 - accuracy: 0.6190 - val_loss: 0.6651 - val_accuracy: 0.6181\n"
          ]
        }
      ]
    },
    {
      "cell_type": "code",
      "source": [
        "#validate the model\n",
        "y_val_pred_prob_ann = ann_model.predict(X_val)\n",
        "y_val_pred_ann = (y_val_pred_prob_ann > 0.5).astype(int)\n",
        "\n",
        "#getting the accuracy\n",
        "metrics_ann = cal_metrics(y_val,y_val_pred_ann)\n",
        "\n",
        "#printing the metrics\n",
        "print(\"Metrics for ANN:\")\n",
        "print(metrics_ann)"
      ],
      "metadata": {
        "colab": {
          "base_uri": "https://localhost:8080/"
        },
        "id": "QXywKaqdowoY",
        "outputId": "b94bb848-96b8-4fde-99f0-4cfc29008ce6"
      },
      "execution_count": 121,
      "outputs": [
        {
          "output_type": "stream",
          "name": "stdout",
          "text": [
            "3489/3489 [==============================] - 6s 2ms/step\n",
            "Metrics for ANN:\n",
            "{'Accuracy': 0.6180683070143225, 'Precision': 0.0, 'Recall': 0.0, 'F1-score': 0.0}\n"
          ]
        }
      ]
    },
    {
      "cell_type": "code",
      "source": [
        "#generating the confusion matrix for ANN\n",
        "plot_confusion_matrix(y_val,y_val_pred_ann,'ANN')"
      ],
      "metadata": {
        "colab": {
          "base_uri": "https://localhost:8080/",
          "height": 564
        },
        "id": "SyKHAmcGc-n0",
        "outputId": "df039fe2-bc01-441e-ae97-a58651744af0"
      },
      "execution_count": 122,
      "outputs": [
        {
          "output_type": "display_data",
          "data": {
            "text/plain": [
              "<Figure size 800x600 with 2 Axes>"
            ],
            "image/png": "[encoded data removed]"
          },
          "metadata": {}
        }
      ]
    },
    {
      "cell_type": "markdown",
      "source": [
        "## **Comparing all the models with a metrics table**"
      ],
      "metadata": {
        "id": "ucsW46rpe_0U"
      }
    },
    {
      "cell_type": "code",
      "source": [
        "model_metrics = {}\n",
        "model_metrics['Logistic Regression'] = metrics_logistic\n",
        "model_metrics['Random Forest'] = metrics_rf\n",
        "model_metrics['KNN'] = metrics_knn\n",
        "model_metrics['XGBoost'] = metrics_xgb\n",
        "model_metrics['Naive Bayes'] = metrics_nb\n",
        "model_metrics['ANN'] = metrics_ann\n",
        "\n",
        "# Convert the dictionary to a DataFrame\n",
        "metrics_df = pd.DataFrame(model_metrics).T  # Transpose to have models as rows and metrics as columns\n",
        "\n",
        "# Display the comparison table\n",
        "print(metrics_df)"
      ],
      "metadata": {
        "colab": {
          "base_uri": "https://localhost:8080/"
        },
        "id": "B7JRYmQgdAT9",
        "outputId": "11a173e0-bdb7-4e27-dc9a-727dceaafeed"
      },
      "execution_count": 123,
      "outputs": [
        {
          "output_type": "stream",
          "name": "stdout",
          "text": [
            "                     Accuracy  Precision    Recall  F1-score\n",
            "Logistic Regression  0.626013   0.584029  0.072211  0.128530\n",
            "Random Forest        0.845893   0.887926  0.682661  0.771881\n",
            "KNN                  0.560832   0.401334  0.304838  0.346493\n",
            "XGBoost              0.901266   0.898628  0.835761  0.866055\n",
            "Naive Bayes          0.627876   0.580798  0.092216  0.159161\n",
            "ANN                  0.618068   0.000000  0.000000  0.000000\n"
          ]
        }
      ]
    },
    {
      "cell_type": "markdown",
      "source": [
        "As we can see from the comparison table, XGBoost is the best perfoming model. So, we will select XGBoost for testing  "
      ],
      "metadata": {
        "id": "iGgWk-cm4Vha"
      }
    },
    {
      "cell_type": "markdown",
      "source": [
        "# **TESTING**"
      ],
      "metadata": {
        "id": "WU9Llc-IPUol"
      }
    },
    {
      "cell_type": "code",
      "source": [
        "# Test Model\n",
        "\n",
        "predictions_final = xgb_model.predict(X_test)\n",
        "\n",
        "indices_to_print = [0,1,2,4,5]\n",
        "#printing the predictions\n",
        "\n",
        "for index in indices_to_print:\n",
        "    print(predictions_final[index])"
      ],
      "metadata": {
        "id": "L70Ftx0TPWfY",
        "colab": {
          "base_uri": "https://localhost:8080/"
        },
        "outputId": "64029db0-f05e-485b-8a18-a9b3eebfe69d"
      },
      "execution_count": 124,
      "outputs": [
        {
          "output_type": "stream",
          "name": "stdout",
          "text": [
            "0\n",
            "0\n",
            "0\n",
            "0\n",
            "0\n"
          ]
        }
      ]
    },
    {
      "cell_type": "code",
      "source": [
        "predictions_final.shape"
      ],
      "metadata": {
        "colab": {
          "base_uri": "https://localhost:8080/"
        },
        "id": "mEeYyoCBW7Gj",
        "outputId": "8c0e5b40-94af-4682-9521-202ee026ff96"
      },
      "execution_count": 128,
      "outputs": [
        {
          "output_type": "execute_result",
          "data": {
            "text/plain": [
              "(135392,)"
            ]
          },
          "metadata": {},
          "execution_count": 128
        }
      ]
    },
    {
      "cell_type": "markdown",
      "source": [
        "CONVERTING THE PREDICTED VALUES OF TESTING TO A CSV"
      ],
      "metadata": {
        "id": "GwCwjyoM4lwr"
      }
    },
    {
      "cell_type": "code",
      "source": [
        "predictions_df = pd.DataFrame({'Predictions': predictions_final})\n",
        "predictions_df.to_csv('predictions.csv',index=False)"
      ],
      "metadata": {
        "id": "C7NUqPnFnL9V"
      },
      "execution_count": 130,
      "outputs": []
    }
  ]
}